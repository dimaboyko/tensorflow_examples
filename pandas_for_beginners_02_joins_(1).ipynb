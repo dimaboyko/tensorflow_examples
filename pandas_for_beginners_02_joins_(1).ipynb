{
  "nbformat": 4,
  "nbformat_minor": 0,
  "metadata": {
    "celltoolbar": "Slideshow",
    "kernelspec": {
      "display_name": "Python 3",
      "language": "python",
      "name": "python3"
    },
    "language_info": {
      "codemirror_mode": {
        "name": "ipython",
        "version": 3
      },
      "file_extension": ".py",
      "mimetype": "text/x-python",
      "name": "python",
      "nbconvert_exporter": "python",
      "pygments_lexer": "ipython3",
      "version": "3.6.6"
    },
    "colab": {
      "name": "pandas_for_beginners_02_joins (1).ipynb",
      "version": "0.3.2",
      "provenance": [],
      "collapsed_sections": [],
      "include_colab_link": true
    }
  },
  "cells": [
    {
      "cell_type": "markdown",
      "metadata": {
        "id": "view-in-github",
        "colab_type": "text"
      },
      "source": [
        "<a href=\"https://colab.research.google.com/github/dimaboyko/tensorflow_examples/blob/master/pandas_for_beginners_02_joins_(1).ipynb\" target=\"_parent\"><img src=\"https://colab.research.google.com/assets/colab-badge.svg\" alt=\"Open In Colab\"/></a>"
      ]
    },
    {
      "cell_type": "markdown",
      "metadata": {
        "id": "kD-WL1O_TMXh",
        "colab_type": "text"
      },
      "source": [
        "In real life, we often have one-to-many relations between things:\n",
        "\n",
        "* A partner can have many customers.\n",
        "* A customer can have many accounts.\n",
        "* An account can have many transaction."
      ]
    },
    {
      "cell_type": "markdown",
      "metadata": {
        "id": "xgVh6PSJTMXi",
        "colab_type": "text"
      },
      "source": [
        "How is such information stored in databases? You could store it \"denormalized\" like this:\n",
        "\n",
        "Transactions:\n",
        "* Roland Folz, age 50, transfers 50€ from his account DE123456 to DE9876\n",
        "* Roland Folz, age 50, transfers 123€ from his account DE123456 to DE444\n",
        "* Roland Folz, age 50, transfers 234€ from his account DE123456 to DE555\n",
        "* Roland Folz, age 50, transfers 345€ from his account DE123456 to DE666"
      ]
    },
    {
      "cell_type": "markdown",
      "metadata": {
        "id": "GAmgn_f2TMXj",
        "colab_type": "text"
      },
      "source": [
        "Bad idea because:\n",
        "* You store a lot of duplicate data!\n",
        "* To just get a list of all customers, you need to read through ALL transactions ever made."
      ]
    },
    {
      "cell_type": "markdown",
      "metadata": {
        "id": "vJMVaZRTTMXk",
        "colab_type": "text"
      },
      "source": [
        "Instead, a process called \"normalization\" during database design transforms it into this:\n",
        "\n",
        "Customers:\n",
        "* Customer 1 is Roland Folz, age 50\n",
        "\n",
        "Accounts:\n",
        "* Account 5 belongs to customer 1, IBAN is DE123456\n",
        "\n",
        "Transactions:\n",
        "* 50€ from account 5 to DE9876\n",
        "* 123€ from account 5 to DE444\n",
        "* 234€ from account 5 to DE555\n",
        "* 345€ from account 5 to DE666"
      ]
    },
    {
      "cell_type": "markdown",
      "metadata": {
        "id": "Z35JCDPxTMXk",
        "colab_type": "text"
      },
      "source": [
        "Very nice, but...\n",
        "\n",
        "...if you want know \"all transactions of Roland Folz\", you first need to put the pieces back together!"
      ]
    },
    {
      "cell_type": "code",
      "metadata": {
        "id": "XCMAslpDTMXl",
        "colab_type": "code",
        "colab": {
          "base_uri": "https://localhost:8080/",
          "height": 198
        },
        "outputId": "3e0e235f-3e44-4c16-96ee-ae9b1d79b4bd"
      },
      "source": [
        "from pandas import DataFrame\n",
        "\n",
        "customers = [\n",
        "    {'customer_id': 1, 'first_name': 'Roland', 'last_name': 'Folz', 'age': 50, 'is_pep': False},\n",
        "    {'customer_id': 4, 'first_name': 'Roland', 'last_name': 'Emmerich', 'age': 64, 'is_pep': False},\n",
        "    {'customer_id': 12, 'first_name': 'Ronald', 'last_name': 'McDonald', 'age': 99, 'is_pep': False},\n",
        "    {'customer_id': 15, 'first_name': 'Ronald', 'last_name': 'Reagan', 'age': 108, 'is_pep': True},\n",
        "    {'customer_id': 16, 'first_name': 'Ronaldo', 'last_name': 'Nazário de Lima', 'age': 42, 'is_pep': False},\n",
        "]\n",
        "\n",
        "customers = DataFrame(customers)\n",
        "customers"
      ],
      "execution_count": 1,
      "outputs": [
        {
          "output_type": "execute_result",
          "data": {
            "text/html": [
              "<div>\n",
              "<style scoped>\n",
              "    .dataframe tbody tr th:only-of-type {\n",
              "        vertical-align: middle;\n",
              "    }\n",
              "\n",
              "    .dataframe tbody tr th {\n",
              "        vertical-align: top;\n",
              "    }\n",
              "\n",
              "    .dataframe thead th {\n",
              "        text-align: right;\n",
              "    }\n",
              "</style>\n",
              "<table border=\"1\" class=\"dataframe\">\n",
              "  <thead>\n",
              "    <tr style=\"text-align: right;\">\n",
              "      <th></th>\n",
              "      <th>age</th>\n",
              "      <th>customer_id</th>\n",
              "      <th>first_name</th>\n",
              "      <th>is_pep</th>\n",
              "      <th>last_name</th>\n",
              "    </tr>\n",
              "  </thead>\n",
              "  <tbody>\n",
              "    <tr>\n",
              "      <th>0</th>\n",
              "      <td>50</td>\n",
              "      <td>1</td>\n",
              "      <td>Roland</td>\n",
              "      <td>False</td>\n",
              "      <td>Folz</td>\n",
              "    </tr>\n",
              "    <tr>\n",
              "      <th>1</th>\n",
              "      <td>64</td>\n",
              "      <td>4</td>\n",
              "      <td>Roland</td>\n",
              "      <td>False</td>\n",
              "      <td>Emmerich</td>\n",
              "    </tr>\n",
              "    <tr>\n",
              "      <th>2</th>\n",
              "      <td>99</td>\n",
              "      <td>12</td>\n",
              "      <td>Ronald</td>\n",
              "      <td>False</td>\n",
              "      <td>McDonald</td>\n",
              "    </tr>\n",
              "    <tr>\n",
              "      <th>3</th>\n",
              "      <td>108</td>\n",
              "      <td>15</td>\n",
              "      <td>Ronald</td>\n",
              "      <td>True</td>\n",
              "      <td>Reagan</td>\n",
              "    </tr>\n",
              "    <tr>\n",
              "      <th>4</th>\n",
              "      <td>42</td>\n",
              "      <td>16</td>\n",
              "      <td>Ronaldo</td>\n",
              "      <td>False</td>\n",
              "      <td>Nazário de Lima</td>\n",
              "    </tr>\n",
              "  </tbody>\n",
              "</table>\n",
              "</div>"
            ],
            "text/plain": [
              "   age  customer_id first_name  is_pep        last_name\n",
              "0   50            1     Roland   False             Folz\n",
              "1   64            4     Roland   False         Emmerich\n",
              "2   99           12     Ronald   False         McDonald\n",
              "3  108           15     Ronald    True           Reagan\n",
              "4   42           16    Ronaldo   False  Nazário de Lima"
            ]
          },
          "metadata": {
            "tags": []
          },
          "execution_count": 1
        }
      ]
    },
    {
      "cell_type": "code",
      "metadata": {
        "id": "LNA9uI91TMXn",
        "colab_type": "code",
        "colab": {
          "base_uri": "https://localhost:8080/",
          "height": 258
        },
        "outputId": "9caf7d85-c563-4419-b0ca-072629285e45"
      },
      "source": [
        "accounts = [\n",
        "    {'account_id': 1, 'customer_id': 1, 'balance': 4_242},\n",
        "    {'account_id': 5, 'customer_id': 1, 'balance': 424_242},\n",
        "    {'account_id': 14, 'customer_id': 4, 'balance': 1_000_000},\n",
        "    {'account_id': 17, 'customer_id': 15, 'balance': 100_000_000},\n",
        "    {'account_id': 23, 'customer_id': 16, 'balance': 10_000},\n",
        "    {'account_id': 42, 'customer_id': 16, 'balance': 10_000_000},\n",
        "    {'account_id': 43, 'customer_id': 16, 'balance': 42_000_000},\n",
        "]\n",
        "\n",
        "accounts = DataFrame(accounts)\n",
        "accounts"
      ],
      "execution_count": 2,
      "outputs": [
        {
          "output_type": "execute_result",
          "data": {
            "text/html": [
              "<div>\n",
              "<style scoped>\n",
              "    .dataframe tbody tr th:only-of-type {\n",
              "        vertical-align: middle;\n",
              "    }\n",
              "\n",
              "    .dataframe tbody tr th {\n",
              "        vertical-align: top;\n",
              "    }\n",
              "\n",
              "    .dataframe thead th {\n",
              "        text-align: right;\n",
              "    }\n",
              "</style>\n",
              "<table border=\"1\" class=\"dataframe\">\n",
              "  <thead>\n",
              "    <tr style=\"text-align: right;\">\n",
              "      <th></th>\n",
              "      <th>account_id</th>\n",
              "      <th>balance</th>\n",
              "      <th>customer_id</th>\n",
              "    </tr>\n",
              "  </thead>\n",
              "  <tbody>\n",
              "    <tr>\n",
              "      <th>0</th>\n",
              "      <td>1</td>\n",
              "      <td>4242</td>\n",
              "      <td>1</td>\n",
              "    </tr>\n",
              "    <tr>\n",
              "      <th>1</th>\n",
              "      <td>5</td>\n",
              "      <td>424242</td>\n",
              "      <td>1</td>\n",
              "    </tr>\n",
              "    <tr>\n",
              "      <th>2</th>\n",
              "      <td>14</td>\n",
              "      <td>1000000</td>\n",
              "      <td>4</td>\n",
              "    </tr>\n",
              "    <tr>\n",
              "      <th>3</th>\n",
              "      <td>17</td>\n",
              "      <td>100000000</td>\n",
              "      <td>15</td>\n",
              "    </tr>\n",
              "    <tr>\n",
              "      <th>4</th>\n",
              "      <td>23</td>\n",
              "      <td>10000</td>\n",
              "      <td>16</td>\n",
              "    </tr>\n",
              "    <tr>\n",
              "      <th>5</th>\n",
              "      <td>42</td>\n",
              "      <td>10000000</td>\n",
              "      <td>16</td>\n",
              "    </tr>\n",
              "    <tr>\n",
              "      <th>6</th>\n",
              "      <td>43</td>\n",
              "      <td>42000000</td>\n",
              "      <td>16</td>\n",
              "    </tr>\n",
              "  </tbody>\n",
              "</table>\n",
              "</div>"
            ],
            "text/plain": [
              "   account_id    balance  customer_id\n",
              "0           1       4242            1\n",
              "1           5     424242            1\n",
              "2          14    1000000            4\n",
              "3          17  100000000           15\n",
              "4          23      10000           16\n",
              "5          42   10000000           16\n",
              "6          43   42000000           16"
            ]
          },
          "metadata": {
            "tags": []
          },
          "execution_count": 2
        }
      ]
    },
    {
      "cell_type": "code",
      "metadata": {
        "id": "5w4-Am8ATMXp",
        "colab_type": "code",
        "colab": {
          "base_uri": "https://localhost:8080/",
          "height": 258
        },
        "outputId": "2a35f975-5cd7-4e01-88f3-26c8fff32f85"
      },
      "source": [
        "accounts_and_customers = customers.merge(accounts)\n",
        "accounts_and_customers"
      ],
      "execution_count": 3,
      "outputs": [
        {
          "output_type": "execute_result",
          "data": {
            "text/html": [
              "<div>\n",
              "<style scoped>\n",
              "    .dataframe tbody tr th:only-of-type {\n",
              "        vertical-align: middle;\n",
              "    }\n",
              "\n",
              "    .dataframe tbody tr th {\n",
              "        vertical-align: top;\n",
              "    }\n",
              "\n",
              "    .dataframe thead th {\n",
              "        text-align: right;\n",
              "    }\n",
              "</style>\n",
              "<table border=\"1\" class=\"dataframe\">\n",
              "  <thead>\n",
              "    <tr style=\"text-align: right;\">\n",
              "      <th></th>\n",
              "      <th>age</th>\n",
              "      <th>customer_id</th>\n",
              "      <th>first_name</th>\n",
              "      <th>is_pep</th>\n",
              "      <th>last_name</th>\n",
              "      <th>account_id</th>\n",
              "      <th>balance</th>\n",
              "    </tr>\n",
              "  </thead>\n",
              "  <tbody>\n",
              "    <tr>\n",
              "      <th>0</th>\n",
              "      <td>50</td>\n",
              "      <td>1</td>\n",
              "      <td>Roland</td>\n",
              "      <td>False</td>\n",
              "      <td>Folz</td>\n",
              "      <td>1</td>\n",
              "      <td>4242</td>\n",
              "    </tr>\n",
              "    <tr>\n",
              "      <th>1</th>\n",
              "      <td>50</td>\n",
              "      <td>1</td>\n",
              "      <td>Roland</td>\n",
              "      <td>False</td>\n",
              "      <td>Folz</td>\n",
              "      <td>5</td>\n",
              "      <td>424242</td>\n",
              "    </tr>\n",
              "    <tr>\n",
              "      <th>2</th>\n",
              "      <td>64</td>\n",
              "      <td>4</td>\n",
              "      <td>Roland</td>\n",
              "      <td>False</td>\n",
              "      <td>Emmerich</td>\n",
              "      <td>14</td>\n",
              "      <td>1000000</td>\n",
              "    </tr>\n",
              "    <tr>\n",
              "      <th>3</th>\n",
              "      <td>108</td>\n",
              "      <td>15</td>\n",
              "      <td>Ronald</td>\n",
              "      <td>True</td>\n",
              "      <td>Reagan</td>\n",
              "      <td>17</td>\n",
              "      <td>100000000</td>\n",
              "    </tr>\n",
              "    <tr>\n",
              "      <th>4</th>\n",
              "      <td>42</td>\n",
              "      <td>16</td>\n",
              "      <td>Ronaldo</td>\n",
              "      <td>False</td>\n",
              "      <td>Nazário de Lima</td>\n",
              "      <td>23</td>\n",
              "      <td>10000</td>\n",
              "    </tr>\n",
              "    <tr>\n",
              "      <th>5</th>\n",
              "      <td>42</td>\n",
              "      <td>16</td>\n",
              "      <td>Ronaldo</td>\n",
              "      <td>False</td>\n",
              "      <td>Nazário de Lima</td>\n",
              "      <td>42</td>\n",
              "      <td>10000000</td>\n",
              "    </tr>\n",
              "    <tr>\n",
              "      <th>6</th>\n",
              "      <td>42</td>\n",
              "      <td>16</td>\n",
              "      <td>Ronaldo</td>\n",
              "      <td>False</td>\n",
              "      <td>Nazário de Lima</td>\n",
              "      <td>43</td>\n",
              "      <td>42000000</td>\n",
              "    </tr>\n",
              "  </tbody>\n",
              "</table>\n",
              "</div>"
            ],
            "text/plain": [
              "   age  customer_id first_name  is_pep        last_name  account_id    balance\n",
              "0   50            1     Roland   False             Folz           1       4242\n",
              "1   50            1     Roland   False             Folz           5     424242\n",
              "2   64            4     Roland   False         Emmerich          14    1000000\n",
              "3  108           15     Ronald    True           Reagan          17  100000000\n",
              "4   42           16    Ronaldo   False  Nazário de Lima          23      10000\n",
              "5   42           16    Ronaldo   False  Nazário de Lima          42   10000000\n",
              "6   42           16    Ronaldo   False  Nazário de Lima          43   42000000"
            ]
          },
          "metadata": {
            "tags": []
          },
          "execution_count": 3
        }
      ]
    },
    {
      "cell_type": "markdown",
      "metadata": {
        "id": "TSiJ2TsNTMXr",
        "colab_type": "text"
      },
      "source": [
        "How did `merge()` know how to combine customers and account?\n",
        "\n",
        "Both DataFrames have a `customer_id` column.\n",
        "\n",
        "If columns have different names, use `left_on=` and `right_on=` to specify the columns\n"
      ]
    },
    {
      "cell_type": "markdown",
      "metadata": {
        "id": "RXFZeNx1TMXr",
        "colab_type": "text"
      },
      "source": [
        "Note that Ronald McDonald does not appear in this table, because he has no account!"
      ]
    },
    {
      "cell_type": "code",
      "metadata": {
        "id": "X9dioLVpTMXs",
        "colab_type": "code",
        "colab": {
          "base_uri": "https://localhost:8080/",
          "height": 258
        },
        "outputId": "45848e0b-101b-4d5c-c855-5a3ddc7a0840"
      },
      "source": [
        "transactions = [\n",
        "    {'transaction_id': 100, 'account_id': 17, 'amount': 6_000, 'to_iban': 'DE123'},\n",
        "    {'transaction_id': 101, 'account_id': 1, 'amount': 4_000, 'to_iban': 'DE234'},\n",
        "    {'transaction_id': 102, 'account_id': 42, 'amount': 1_000_000, 'to_iban': 'BR345'},\n",
        "    {'transaction_id': 103, 'account_id': 14, 'amount': 42_000, 'to_iban': 'DE456'},\n",
        "    {'transaction_id': 104, 'account_id': 5, 'amount': 123, 'to_iban': 'AT123'},\n",
        "    {'transaction_id': 105, 'account_id': 5, 'amount': 234, 'to_iban': 'DE567'},\n",
        "    {'transaction_id': 106, 'account_id': 23, 'amount': 999, 'to_iban': 'FR456'},\n",
        "]\n",
        "\n",
        "transactions = DataFrame(transactions)\n",
        "transactions"
      ],
      "execution_count": 4,
      "outputs": [
        {
          "output_type": "execute_result",
          "data": {
            "text/html": [
              "<div>\n",
              "<style scoped>\n",
              "    .dataframe tbody tr th:only-of-type {\n",
              "        vertical-align: middle;\n",
              "    }\n",
              "\n",
              "    .dataframe tbody tr th {\n",
              "        vertical-align: top;\n",
              "    }\n",
              "\n",
              "    .dataframe thead th {\n",
              "        text-align: right;\n",
              "    }\n",
              "</style>\n",
              "<table border=\"1\" class=\"dataframe\">\n",
              "  <thead>\n",
              "    <tr style=\"text-align: right;\">\n",
              "      <th></th>\n",
              "      <th>account_id</th>\n",
              "      <th>amount</th>\n",
              "      <th>to_iban</th>\n",
              "      <th>transaction_id</th>\n",
              "    </tr>\n",
              "  </thead>\n",
              "  <tbody>\n",
              "    <tr>\n",
              "      <th>0</th>\n",
              "      <td>17</td>\n",
              "      <td>6000</td>\n",
              "      <td>DE123</td>\n",
              "      <td>100</td>\n",
              "    </tr>\n",
              "    <tr>\n",
              "      <th>1</th>\n",
              "      <td>1</td>\n",
              "      <td>4000</td>\n",
              "      <td>DE234</td>\n",
              "      <td>101</td>\n",
              "    </tr>\n",
              "    <tr>\n",
              "      <th>2</th>\n",
              "      <td>42</td>\n",
              "      <td>1000000</td>\n",
              "      <td>BR345</td>\n",
              "      <td>102</td>\n",
              "    </tr>\n",
              "    <tr>\n",
              "      <th>3</th>\n",
              "      <td>14</td>\n",
              "      <td>42000</td>\n",
              "      <td>DE456</td>\n",
              "      <td>103</td>\n",
              "    </tr>\n",
              "    <tr>\n",
              "      <th>4</th>\n",
              "      <td>5</td>\n",
              "      <td>123</td>\n",
              "      <td>AT123</td>\n",
              "      <td>104</td>\n",
              "    </tr>\n",
              "    <tr>\n",
              "      <th>5</th>\n",
              "      <td>5</td>\n",
              "      <td>234</td>\n",
              "      <td>DE567</td>\n",
              "      <td>105</td>\n",
              "    </tr>\n",
              "    <tr>\n",
              "      <th>6</th>\n",
              "      <td>23</td>\n",
              "      <td>999</td>\n",
              "      <td>FR456</td>\n",
              "      <td>106</td>\n",
              "    </tr>\n",
              "  </tbody>\n",
              "</table>\n",
              "</div>"
            ],
            "text/plain": [
              "   account_id   amount to_iban  transaction_id\n",
              "0          17     6000   DE123             100\n",
              "1           1     4000   DE234             101\n",
              "2          42  1000000   BR345             102\n",
              "3          14    42000   DE456             103\n",
              "4           5      123   AT123             104\n",
              "5           5      234   DE567             105\n",
              "6          23      999   FR456             106"
            ]
          },
          "metadata": {
            "tags": []
          },
          "execution_count": 4
        }
      ]
    },
    {
      "cell_type": "code",
      "metadata": {
        "id": "KmxZxAMFTMXu",
        "colab_type": "code",
        "colab": {
          "base_uri": "https://localhost:8080/",
          "height": 258
        },
        "outputId": "5256227b-eb60-418e-9534-d060af72637a"
      },
      "source": [
        "transactions_merged = accounts_and_customers.merge(transactions)\n",
        "transactions_merged"
      ],
      "execution_count": 5,
      "outputs": [
        {
          "output_type": "execute_result",
          "data": {
            "text/html": [
              "<div>\n",
              "<style scoped>\n",
              "    .dataframe tbody tr th:only-of-type {\n",
              "        vertical-align: middle;\n",
              "    }\n",
              "\n",
              "    .dataframe tbody tr th {\n",
              "        vertical-align: top;\n",
              "    }\n",
              "\n",
              "    .dataframe thead th {\n",
              "        text-align: right;\n",
              "    }\n",
              "</style>\n",
              "<table border=\"1\" class=\"dataframe\">\n",
              "  <thead>\n",
              "    <tr style=\"text-align: right;\">\n",
              "      <th></th>\n",
              "      <th>age</th>\n",
              "      <th>customer_id</th>\n",
              "      <th>first_name</th>\n",
              "      <th>is_pep</th>\n",
              "      <th>last_name</th>\n",
              "      <th>account_id</th>\n",
              "      <th>balance</th>\n",
              "      <th>amount</th>\n",
              "      <th>to_iban</th>\n",
              "      <th>transaction_id</th>\n",
              "    </tr>\n",
              "  </thead>\n",
              "  <tbody>\n",
              "    <tr>\n",
              "      <th>0</th>\n",
              "      <td>50</td>\n",
              "      <td>1</td>\n",
              "      <td>Roland</td>\n",
              "      <td>False</td>\n",
              "      <td>Folz</td>\n",
              "      <td>1</td>\n",
              "      <td>4242</td>\n",
              "      <td>4000</td>\n",
              "      <td>DE234</td>\n",
              "      <td>101</td>\n",
              "    </tr>\n",
              "    <tr>\n",
              "      <th>1</th>\n",
              "      <td>50</td>\n",
              "      <td>1</td>\n",
              "      <td>Roland</td>\n",
              "      <td>False</td>\n",
              "      <td>Folz</td>\n",
              "      <td>5</td>\n",
              "      <td>424242</td>\n",
              "      <td>123</td>\n",
              "      <td>AT123</td>\n",
              "      <td>104</td>\n",
              "    </tr>\n",
              "    <tr>\n",
              "      <th>2</th>\n",
              "      <td>50</td>\n",
              "      <td>1</td>\n",
              "      <td>Roland</td>\n",
              "      <td>False</td>\n",
              "      <td>Folz</td>\n",
              "      <td>5</td>\n",
              "      <td>424242</td>\n",
              "      <td>234</td>\n",
              "      <td>DE567</td>\n",
              "      <td>105</td>\n",
              "    </tr>\n",
              "    <tr>\n",
              "      <th>3</th>\n",
              "      <td>64</td>\n",
              "      <td>4</td>\n",
              "      <td>Roland</td>\n",
              "      <td>False</td>\n",
              "      <td>Emmerich</td>\n",
              "      <td>14</td>\n",
              "      <td>1000000</td>\n",
              "      <td>42000</td>\n",
              "      <td>DE456</td>\n",
              "      <td>103</td>\n",
              "    </tr>\n",
              "    <tr>\n",
              "      <th>4</th>\n",
              "      <td>108</td>\n",
              "      <td>15</td>\n",
              "      <td>Ronald</td>\n",
              "      <td>True</td>\n",
              "      <td>Reagan</td>\n",
              "      <td>17</td>\n",
              "      <td>100000000</td>\n",
              "      <td>6000</td>\n",
              "      <td>DE123</td>\n",
              "      <td>100</td>\n",
              "    </tr>\n",
              "    <tr>\n",
              "      <th>5</th>\n",
              "      <td>42</td>\n",
              "      <td>16</td>\n",
              "      <td>Ronaldo</td>\n",
              "      <td>False</td>\n",
              "      <td>Nazário de Lima</td>\n",
              "      <td>23</td>\n",
              "      <td>10000</td>\n",
              "      <td>999</td>\n",
              "      <td>FR456</td>\n",
              "      <td>106</td>\n",
              "    </tr>\n",
              "    <tr>\n",
              "      <th>6</th>\n",
              "      <td>42</td>\n",
              "      <td>16</td>\n",
              "      <td>Ronaldo</td>\n",
              "      <td>False</td>\n",
              "      <td>Nazário de Lima</td>\n",
              "      <td>42</td>\n",
              "      <td>10000000</td>\n",
              "      <td>1000000</td>\n",
              "      <td>BR345</td>\n",
              "      <td>102</td>\n",
              "    </tr>\n",
              "  </tbody>\n",
              "</table>\n",
              "</div>"
            ],
            "text/plain": [
              "   age  customer_id first_name  ...   amount to_iban  transaction_id\n",
              "0   50            1     Roland  ...     4000   DE234             101\n",
              "1   50            1     Roland  ...      123   AT123             104\n",
              "2   50            1     Roland  ...      234   DE567             105\n",
              "3   64            4     Roland  ...    42000   DE456             103\n",
              "4  108           15     Ronald  ...     6000   DE123             100\n",
              "5   42           16    Ronaldo  ...      999   FR456             106\n",
              "6   42           16    Ronaldo  ...  1000000   BR345             102\n",
              "\n",
              "[7 rows x 10 columns]"
            ]
          },
          "metadata": {
            "tags": []
          },
          "execution_count": 5
        }
      ]
    },
    {
      "cell_type": "markdown",
      "metadata": {
        "id": "9kGI7dFcTMXv",
        "colab_type": "text"
      },
      "source": [
        "This time, the `merge()` worked because both DataFrames have a `account_id` column."
      ]
    },
    {
      "cell_type": "markdown",
      "metadata": {
        "id": "GO4LefRSTMXw",
        "colab_type": "text"
      },
      "source": [
        "# Exercise\n",
        "The AML department needs to perform special AML checks if one of the following is true:\n",
        "\n",
        "*  transaction over 10,000 €\n",
        "*  for PEPs: transaction over 5,000€\n",
        "*  transaction that move >90% of the account's (original) balance\n",
        "*  transaction going outside of Germany\n",
        "\n",
        "We need to support them and get all the transaction IDs for all matching transactions.\n",
        "\n",
        "Also, we need to tell the AML team the reason(s) why a transaction needs to be checked."
      ]
    },
    {
      "cell_type": "markdown",
      "metadata": {
        "id": "-AmLoZKHTMXw",
        "colab_type": "text"
      },
      "source": [
        "That is a lot of stuff to do. Action plan:\n",
        "* implement all four conditions\n",
        " * one by one!\n",
        " * add a new column to the DataFrame for each condition\n",
        "* use the new columns to generate a description of what needs to be checked\n",
        "* those items that have a description must be given to the AML team\n"
      ]
    },
    {
      "cell_type": "markdown",
      "metadata": {
        "id": "GxMUHlHmTMXx",
        "colab_type": "text"
      },
      "source": [
        "First condition: transactions over 10,000€\n",
        "\n",
        "Add a new column `is_high_transaction` to `transactions_merged` that tells us if the transaction amount is greater than 10,000€."
      ]
    },
    {
      "cell_type": "code",
      "metadata": {
        "id": "AeDtdremTMXy",
        "colab_type": "code",
        "colab": {}
      },
      "source": [
        "transactions_merged['is_high_transaction'] = transactions_merged.amount > 10000"
      ],
      "execution_count": 0,
      "outputs": []
    },
    {
      "cell_type": "code",
      "metadata": {
        "id": "YbBA2hMhTo0B",
        "colab_type": "code",
        "colab": {
          "base_uri": "https://localhost:8080/",
          "height": 258
        },
        "outputId": "7eff00dd-3f50-4f31-91f6-3959559a8c0d"
      },
      "source": [
        "transactions_merged"
      ],
      "execution_count": 7,
      "outputs": [
        {
          "output_type": "execute_result",
          "data": {
            "text/html": [
              "<div>\n",
              "<style scoped>\n",
              "    .dataframe tbody tr th:only-of-type {\n",
              "        vertical-align: middle;\n",
              "    }\n",
              "\n",
              "    .dataframe tbody tr th {\n",
              "        vertical-align: top;\n",
              "    }\n",
              "\n",
              "    .dataframe thead th {\n",
              "        text-align: right;\n",
              "    }\n",
              "</style>\n",
              "<table border=\"1\" class=\"dataframe\">\n",
              "  <thead>\n",
              "    <tr style=\"text-align: right;\">\n",
              "      <th></th>\n",
              "      <th>age</th>\n",
              "      <th>customer_id</th>\n",
              "      <th>first_name</th>\n",
              "      <th>is_pep</th>\n",
              "      <th>last_name</th>\n",
              "      <th>account_id</th>\n",
              "      <th>balance</th>\n",
              "      <th>amount</th>\n",
              "      <th>to_iban</th>\n",
              "      <th>transaction_id</th>\n",
              "      <th>is_high_transaction</th>\n",
              "    </tr>\n",
              "  </thead>\n",
              "  <tbody>\n",
              "    <tr>\n",
              "      <th>0</th>\n",
              "      <td>50</td>\n",
              "      <td>1</td>\n",
              "      <td>Roland</td>\n",
              "      <td>False</td>\n",
              "      <td>Folz</td>\n",
              "      <td>1</td>\n",
              "      <td>4242</td>\n",
              "      <td>4000</td>\n",
              "      <td>DE234</td>\n",
              "      <td>101</td>\n",
              "      <td>False</td>\n",
              "    </tr>\n",
              "    <tr>\n",
              "      <th>1</th>\n",
              "      <td>50</td>\n",
              "      <td>1</td>\n",
              "      <td>Roland</td>\n",
              "      <td>False</td>\n",
              "      <td>Folz</td>\n",
              "      <td>5</td>\n",
              "      <td>424242</td>\n",
              "      <td>123</td>\n",
              "      <td>AT123</td>\n",
              "      <td>104</td>\n",
              "      <td>False</td>\n",
              "    </tr>\n",
              "    <tr>\n",
              "      <th>2</th>\n",
              "      <td>50</td>\n",
              "      <td>1</td>\n",
              "      <td>Roland</td>\n",
              "      <td>False</td>\n",
              "      <td>Folz</td>\n",
              "      <td>5</td>\n",
              "      <td>424242</td>\n",
              "      <td>234</td>\n",
              "      <td>DE567</td>\n",
              "      <td>105</td>\n",
              "      <td>False</td>\n",
              "    </tr>\n",
              "    <tr>\n",
              "      <th>3</th>\n",
              "      <td>64</td>\n",
              "      <td>4</td>\n",
              "      <td>Roland</td>\n",
              "      <td>False</td>\n",
              "      <td>Emmerich</td>\n",
              "      <td>14</td>\n",
              "      <td>1000000</td>\n",
              "      <td>42000</td>\n",
              "      <td>DE456</td>\n",
              "      <td>103</td>\n",
              "      <td>True</td>\n",
              "    </tr>\n",
              "    <tr>\n",
              "      <th>4</th>\n",
              "      <td>108</td>\n",
              "      <td>15</td>\n",
              "      <td>Ronald</td>\n",
              "      <td>True</td>\n",
              "      <td>Reagan</td>\n",
              "      <td>17</td>\n",
              "      <td>100000000</td>\n",
              "      <td>6000</td>\n",
              "      <td>DE123</td>\n",
              "      <td>100</td>\n",
              "      <td>False</td>\n",
              "    </tr>\n",
              "    <tr>\n",
              "      <th>5</th>\n",
              "      <td>42</td>\n",
              "      <td>16</td>\n",
              "      <td>Ronaldo</td>\n",
              "      <td>False</td>\n",
              "      <td>Nazário de Lima</td>\n",
              "      <td>23</td>\n",
              "      <td>10000</td>\n",
              "      <td>999</td>\n",
              "      <td>FR456</td>\n",
              "      <td>106</td>\n",
              "      <td>False</td>\n",
              "    </tr>\n",
              "    <tr>\n",
              "      <th>6</th>\n",
              "      <td>42</td>\n",
              "      <td>16</td>\n",
              "      <td>Ronaldo</td>\n",
              "      <td>False</td>\n",
              "      <td>Nazário de Lima</td>\n",
              "      <td>42</td>\n",
              "      <td>10000000</td>\n",
              "      <td>1000000</td>\n",
              "      <td>BR345</td>\n",
              "      <td>102</td>\n",
              "      <td>True</td>\n",
              "    </tr>\n",
              "  </tbody>\n",
              "</table>\n",
              "</div>"
            ],
            "text/plain": [
              "   age  customer_id first_name  ...  to_iban transaction_id  is_high_transaction\n",
              "0   50            1     Roland  ...    DE234            101                False\n",
              "1   50            1     Roland  ...    AT123            104                False\n",
              "2   50            1     Roland  ...    DE567            105                False\n",
              "3   64            4     Roland  ...    DE456            103                 True\n",
              "4  108           15     Ronald  ...    DE123            100                False\n",
              "5   42           16    Ronaldo  ...    FR456            106                False\n",
              "6   42           16    Ronaldo  ...    BR345            102                 True\n",
              "\n",
              "[7 rows x 11 columns]"
            ]
          },
          "metadata": {
            "tags": []
          },
          "execution_count": 7
        }
      ]
    },
    {
      "cell_type": "markdown",
      "metadata": {
        "id": "6t5JMlmYTMX1",
        "colab_type": "text"
      },
      "source": [
        "Second condition: transactions over 5,000€ if customer is a PEP\n",
        "\n",
        "Add a new column `is_high_transaction_pep` to `transactions_merged` that tells us if the condition applies.\n",
        "\n",
        "Hint: If it says `ValueError: The truth value of a Series is ambiguous` then use parentheses to clarify things."
      ]
    },
    {
      "cell_type": "code",
      "metadata": {
        "id": "kE8EDAD2UkPF",
        "colab_type": "code",
        "colab": {
          "base_uri": "https://localhost:8080/",
          "height": 104
        },
        "outputId": "10399f39-544a-4fc9-8e79-2467fdc5e410"
      },
      "source": [
        "!ls -la"
      ],
      "execution_count": 8,
      "outputs": [
        {
          "output_type": "stream",
          "text": [
            "total 16\n",
            "drwxr-xr-x 1 root root 4096 Jul 19 16:14 .\n",
            "drwxr-xr-x 1 root root 4096 Jul 25 13:21 ..\n",
            "drwxr-xr-x 1 root root 4096 Jul 19 16:14 .config\n",
            "drwxr-xr-x 1 root root 4096 Jul 19 16:14 sample_data\n"
          ],
          "name": "stdout"
        }
      ]
    },
    {
      "cell_type": "code",
      "metadata": {
        "id": "BibpY4rbTMX2",
        "colab_type": "code",
        "colab": {}
      },
      "source": [
        "# TODO: add new column to transactions_merged"
      ],
      "execution_count": 0,
      "outputs": []
    },
    {
      "cell_type": "markdown",
      "metadata": {
        "id": "FNK7a78ATMX4",
        "colab_type": "text"
      },
      "source": [
        "Third condition: transaction to account outside of Germany\n",
        "\n",
        "German IBANs start with `DE`, so we look for `to_iban`s that do *not* start with `DE`."
      ]
    },
    {
      "cell_type": "code",
      "metadata": {
        "id": "nhvMLCwJTMX5",
        "colab_type": "code",
        "colab": {}
      },
      "source": [
        "# normal Python:\n",
        "iban = \"FR1234\"\n",
        "iban.startswith(\"DE\")"
      ],
      "execution_count": 0,
      "outputs": []
    },
    {
      "cell_type": "code",
      "metadata": {
        "id": "tWvoNW0wTMX7",
        "colab_type": "code",
        "colab": {}
      },
      "source": [
        "# Pandas:\n",
        "transactions_merged.first_name.str.startswith(\"Rol\")"
      ],
      "execution_count": 0,
      "outputs": []
    },
    {
      "cell_type": "markdown",
      "metadata": {
        "id": "8FEZ98JxTMX9",
        "colab_type": "text"
      },
      "source": [
        "Insert a new column `to_germany` that indicates if the transaction goes to Germany or not."
      ]
    },
    {
      "cell_type": "code",
      "metadata": {
        "id": "y-YZU3eZTMX-",
        "colab_type": "code",
        "colab": {}
      },
      "source": [
        "# TODO: add new column to transactions_merged"
      ],
      "execution_count": 0,
      "outputs": []
    },
    {
      "cell_type": "markdown",
      "metadata": {
        "id": "KNKDtm1tTMX_",
        "colab_type": "text"
      },
      "source": [
        "Fourth condition: transfer more than 90% of balance\n",
        "\n",
        "Insert a new column `is_high_percentage` that indicates if the condition matches.\n",
        "\n",
        "Note: Remember that mathematical operations on a column are automatically applied to all numbers in the column. You do *not* need a for loop."
      ]
    },
    {
      "cell_type": "code",
      "metadata": {
        "id": "zPE7E84fTMYA",
        "colab_type": "code",
        "colab": {}
      },
      "source": [
        "transactions_merged['is_high_percentage'] = (transactions_merged[\"amount\"] / transactions_merged[\"balance\"]) > 0.9\n",
        "\n",
        "transactions_merged"
      ],
      "execution_count": 0,
      "outputs": []
    },
    {
      "cell_type": "markdown",
      "metadata": {
        "id": "oOT-bcLITMYC",
        "colab_type": "text"
      },
      "source": [
        "Now we need to put all the pieces together and tell the AML team why the transaction needs to be checked. There can be one or multiple reasons why a check is needed!\n",
        "\n",
        "Use the `apply()` method you saw last week to create a new column `aml_check_reason`. Combine `apply()` with the function `get_aml_check_reason()` (which you also need to implement)."
      ]
    },
    {
      "cell_type": "code",
      "metadata": {
        "id": "jJPCn2AsTMYC",
        "colab_type": "code",
        "colab": {}
      },
      "source": [
        "def get_aml_check_reason(transaction):\n",
        "    # TODO: return a string with the reasons why\n",
        "    #       the transaction needs to be checked."
      ],
      "execution_count": 0,
      "outputs": []
    },
    {
      "cell_type": "code",
      "metadata": {
        "id": "kgqRvgSUTMYE",
        "colab_type": "code",
        "colab": {}
      },
      "source": [
        "# TODO: add new column to transactions_merged by using apply()"
      ],
      "execution_count": 0,
      "outputs": []
    },
    {
      "cell_type": "code",
      "metadata": {
        "id": "n87HJcJ8TMYG",
        "colab_type": "code",
        "colab": {}
      },
      "source": [
        "# Finally, let's get the transactions that need checking:\n",
        "to_be_checked = transactions_merged[transactions_merged.aml_check_reason != \"\"]\n",
        "\n",
        "# We only want two columns:\n",
        "to_be_checked[['transaction_id', 'aml_check_reason']]"
      ],
      "execution_count": 0,
      "outputs": []
    },
    {
      "cell_type": "code",
      "metadata": {
        "id": "dagKR4eVTMYH",
        "colab_type": "code",
        "colab": {}
      },
      "source": [
        ""
      ],
      "execution_count": 0,
      "outputs": []
    }
  ]
}